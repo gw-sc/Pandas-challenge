{
 "cells": [
  {
   "cell_type": "markdown",
   "id": "59e5f3a2",
   "metadata": {},
   "source": [
    "# Unit 4 Homework: Pandas, Pandas, Pandas"
   ]
  },
  {
   "cell_type": "markdown",
   "id": "abc760e7",
   "metadata": {},
   "source": [
    "Using Pandas and Jupyter Notebook, create a report that includes the following data. Your report must include a written description of at least two observable trends based on the data."
   ]
  },
  {
   "cell_type": "code",
   "execution_count": 1,
   "id": "6c31b458",
   "metadata": {},
   "outputs": [
    {
     "data": {
      "text/html": [
       "<div>\n",
       "<style scoped>\n",
       "    .dataframe tbody tr th:only-of-type {\n",
       "        vertical-align: middle;\n",
       "    }\n",
       "\n",
       "    .dataframe tbody tr th {\n",
       "        vertical-align: top;\n",
       "    }\n",
       "\n",
       "    .dataframe thead th {\n",
       "        text-align: right;\n",
       "    }\n",
       "</style>\n",
       "<table border=\"1\" class=\"dataframe\">\n",
       "  <thead>\n",
       "    <tr style=\"text-align: right;\">\n",
       "      <th></th>\n",
       "      <th>Student ID</th>\n",
       "      <th>student_name</th>\n",
       "      <th>gender</th>\n",
       "      <th>grade</th>\n",
       "      <th>school_name</th>\n",
       "      <th>reading_score</th>\n",
       "      <th>math_score</th>\n",
       "      <th>School ID</th>\n",
       "      <th>type</th>\n",
       "      <th>size</th>\n",
       "      <th>budget</th>\n",
       "    </tr>\n",
       "  </thead>\n",
       "  <tbody>\n",
       "    <tr>\n",
       "      <th>0</th>\n",
       "      <td>0</td>\n",
       "      <td>Paul Bradley</td>\n",
       "      <td>M</td>\n",
       "      <td>9th</td>\n",
       "      <td>Huang High School</td>\n",
       "      <td>66</td>\n",
       "      <td>79</td>\n",
       "      <td>0</td>\n",
       "      <td>District</td>\n",
       "      <td>2917</td>\n",
       "      <td>1910635</td>\n",
       "    </tr>\n",
       "    <tr>\n",
       "      <th>1</th>\n",
       "      <td>1</td>\n",
       "      <td>Victor Smith</td>\n",
       "      <td>M</td>\n",
       "      <td>12th</td>\n",
       "      <td>Huang High School</td>\n",
       "      <td>94</td>\n",
       "      <td>61</td>\n",
       "      <td>0</td>\n",
       "      <td>District</td>\n",
       "      <td>2917</td>\n",
       "      <td>1910635</td>\n",
       "    </tr>\n",
       "    <tr>\n",
       "      <th>2</th>\n",
       "      <td>2</td>\n",
       "      <td>Kevin Rodriguez</td>\n",
       "      <td>M</td>\n",
       "      <td>12th</td>\n",
       "      <td>Huang High School</td>\n",
       "      <td>90</td>\n",
       "      <td>60</td>\n",
       "      <td>0</td>\n",
       "      <td>District</td>\n",
       "      <td>2917</td>\n",
       "      <td>1910635</td>\n",
       "    </tr>\n",
       "    <tr>\n",
       "      <th>3</th>\n",
       "      <td>3</td>\n",
       "      <td>Dr. Richard Scott</td>\n",
       "      <td>M</td>\n",
       "      <td>12th</td>\n",
       "      <td>Huang High School</td>\n",
       "      <td>67</td>\n",
       "      <td>58</td>\n",
       "      <td>0</td>\n",
       "      <td>District</td>\n",
       "      <td>2917</td>\n",
       "      <td>1910635</td>\n",
       "    </tr>\n",
       "    <tr>\n",
       "      <th>4</th>\n",
       "      <td>4</td>\n",
       "      <td>Bonnie Ray</td>\n",
       "      <td>F</td>\n",
       "      <td>9th</td>\n",
       "      <td>Huang High School</td>\n",
       "      <td>97</td>\n",
       "      <td>84</td>\n",
       "      <td>0</td>\n",
       "      <td>District</td>\n",
       "      <td>2917</td>\n",
       "      <td>1910635</td>\n",
       "    </tr>\n",
       "  </tbody>\n",
       "</table>\n",
       "</div>"
      ],
      "text/plain": [
       "   Student ID       student_name gender grade        school_name  \\\n",
       "0           0       Paul Bradley      M   9th  Huang High School   \n",
       "1           1       Victor Smith      M  12th  Huang High School   \n",
       "2           2    Kevin Rodriguez      M  12th  Huang High School   \n",
       "3           3  Dr. Richard Scott      M  12th  Huang High School   \n",
       "4           4         Bonnie Ray      F   9th  Huang High School   \n",
       "\n",
       "   reading_score  math_score  School ID      type  size   budget  \n",
       "0             66          79          0  District  2917  1910635  \n",
       "1             94          61          0  District  2917  1910635  \n",
       "2             90          60          0  District  2917  1910635  \n",
       "3             67          58          0  District  2917  1910635  \n",
       "4             97          84          0  District  2917  1910635  "
      ]
     },
     "execution_count": 1,
     "metadata": {},
     "output_type": "execute_result"
    }
   ],
   "source": [
    "# Dependencies and set up\n",
    "import os\n",
    "import csv\n",
    "import pandas as pd\n",
    "\n",
    "# Load files\n",
    "school_data_path= \"./Resources/schools_complete.csv\"\n",
    "student_data_path = \"./Resources/students_complete.csv\"\n",
    "\n",
    "# Read School and Student Data File and store into Pandas DataFrames\n",
    "school_data = pd.read_csv(school_data_path)\n",
    "student_data = pd.read_csv(student_data_path)\n",
    "\n",
    "# Combine the data into a single dataset\n",
    "school_data_df = pd.merge(student_data, school_data, how=\"left\", on=[\"school_name\", \"school_name\"])\n",
    "\n",
    "# Check dataframe\n",
    "school_data_df.head()"
   ]
  },
  {
   "cell_type": "code",
   "execution_count": 22,
   "id": "93ac753e",
   "metadata": {},
   "outputs": [
    {
     "name": "stdout",
     "output_type": "stream",
     "text": [
      "<class 'pandas.core.frame.DataFrame'>\n",
      "Int64Index: 39170 entries, 0 to 39169\n",
      "Data columns (total 11 columns):\n",
      " #   Column         Non-Null Count  Dtype \n",
      "---  ------         --------------  ----- \n",
      " 0   Student ID     39170 non-null  int64 \n",
      " 1   student_name   39170 non-null  object\n",
      " 2   gender         39170 non-null  object\n",
      " 3   grade          39170 non-null  object\n",
      " 4   school_name    39170 non-null  object\n",
      " 5   reading_score  39170 non-null  int64 \n",
      " 6   math_score     39170 non-null  int64 \n",
      " 7   School ID      39170 non-null  int64 \n",
      " 8   type           39170 non-null  object\n",
      " 9   size           39170 non-null  int64 \n",
      " 10  budget         39170 non-null  int64 \n",
      "dtypes: int64(6), object(5)\n",
      "memory usage: 3.6+ MB\n"
     ]
    }
   ],
   "source": [
    "school_data_df.info()"
   ]
  },
  {
   "cell_type": "markdown",
   "id": "7087b9f1",
   "metadata": {},
   "source": [
    "# District Summary\n",
    "Create a high-level snapshot, in a DataFrame, of the district's key metrics, including the following:\n",
    "* Total schools\n",
    "* Total students\n",
    "* Total budget\n",
    "* Average math score\n",
    "* Average reading score\n",
    "* % passing math (the percentage of students who passed math)\n",
    "* % passing reading (the percentage of students who passed reading)\n",
    "* % overall passing (the percentage of students who passed math AND reading)"
   ]
  },
  {
   "cell_type": "code",
   "execution_count": 41,
   "id": "25f42c0e",
   "metadata": {
    "scrolled": false
   },
   "outputs": [
    {
     "data": {
      "text/html": [
       "<div>\n",
       "<style scoped>\n",
       "    .dataframe tbody tr th:only-of-type {\n",
       "        vertical-align: middle;\n",
       "    }\n",
       "\n",
       "    .dataframe tbody tr th {\n",
       "        vertical-align: top;\n",
       "    }\n",
       "\n",
       "    .dataframe thead th {\n",
       "        text-align: right;\n",
       "    }\n",
       "</style>\n",
       "<table border=\"1\" class=\"dataframe\">\n",
       "  <thead>\n",
       "    <tr style=\"text-align: right;\">\n",
       "      <th></th>\n",
       "      <th>Total Schools</th>\n",
       "      <th>Total Students</th>\n",
       "      <th>Total Budget</th>\n",
       "      <th>Average Math Score</th>\n",
       "      <th>Average Reading Score</th>\n",
       "      <th>% Passing Math</th>\n",
       "      <th>% Passing Reading</th>\n",
       "      <th>% Overall Passing</th>\n",
       "    </tr>\n",
       "  </thead>\n",
       "  <tbody>\n",
       "    <tr>\n",
       "      <th>0</th>\n",
       "      <td>15</td>\n",
       "      <td>39170</td>\n",
       "      <td>$24,649,428.00</td>\n",
       "      <td>78.99</td>\n",
       "      <td>81.88</td>\n",
       "      <td>74.98</td>\n",
       "      <td>85.81</td>\n",
       "      <td>65.17</td>\n",
       "    </tr>\n",
       "  </tbody>\n",
       "</table>\n",
       "</div>"
      ],
      "text/plain": [
       "   Total Schools  Total Students    Total Budget  Average Math Score  \\\n",
       "0             15           39170  $24,649,428.00               78.99   \n",
       "\n",
       "   Average Reading Score  % Passing Math  % Passing Reading  % Overall Passing  \n",
       "0                  81.88           74.98              85.81              65.17  "
      ]
     },
     "execution_count": 41,
     "metadata": {},
     "output_type": "execute_result"
    }
   ],
   "source": [
    "# number of schools\n",
    "total_schools = school_data_df[\"school_name\"].nunique()\n",
    "\n",
    "# number of students\n",
    "total_students = school_data_df[\"student_name\"].count()\n",
    "\n",
    "# total budget\n",
    "# sum(school_data[\"budget\"])\n",
    "total_budget = sum(school_data_df[\"budget\"].unique())\n",
    "\n",
    "# average math score\n",
    "avg_math = school_data_df[\"math_score\"].mean()\n",
    "\n",
    "# average reading score\n",
    "avg_read = school_data_df[\"reading_score\"].mean()\n",
    "\n",
    "# percentage of passing math score 70%\n",
    "pass_math = school_data_df.query('math_score >=70')\n",
    "total_pass_math = pass_math[\"math_score\"].count()\n",
    "\n",
    "perc_math = (total_pass_math / total_students) * 100\n",
    "\n",
    "# percentage of passing reading score 70%\n",
    "pass_read = school_data_df.query('reading_score >=70')\n",
    "total_pass_read = pass_read[\"reading_score\"].count()\n",
    "\n",
    "perc_read = (total_pass_read / total_students) * 100\n",
    "\n",
    "# percentage of overall passing\n",
    "both_pass_count = school_data_df[\n",
    "    (school_data_df[\"math_score\"] >= 70) &\n",
    "    (school_data_df[\"reading_score\"] >=70)\n",
    "].count()[\"student_name\"]\n",
    "perc_all = (both_pass_count / total_students) * 100\n",
    "\n",
    "# Create summary dataframe\n",
    "district_summary_df = pd.DataFrame({\n",
    "    \"Total Schools\": total_schools,\n",
    "    \"Total Students\": total_students,\n",
    "    \"Total Budget\": total_budget,\n",
    "    \"Average Math Score\": avg_math,\n",
    "    \"Average Reading Score\": avg_read,\n",
    "    \"% Passing Math\": [perc_math],\n",
    "    \"% Passing Reading\": perc_read,\n",
    "    \"% Overall Passing\": perc_all\n",
    "})\n",
    "\n",
    "# apply clean formatting\n",
    "pd.options.display.float_format = \"{:,.2f}\".format\n",
    "district_summary_df[\"Total Budget\"] = district_summary_df[\n",
    "    \"Total Budget\"].map(\"${:,.2f}\".format)\n",
    "\n",
    "district_summary_df"
   ]
  },
  {
   "cell_type": "markdown",
   "id": "139e437d",
   "metadata": {},
   "source": [
    "# School Summary\n",
    "Create an overview table that summarizes key metrics about each school, including:\n",
    "* School Name\n",
    "* School Type\n",
    "* Total Students\n",
    "* Total School Budget\n",
    "* Per Student Budget\n",
    "* Average Math Score\n",
    "* Average Reading Score\n",
    "* % Passing Math\n",
    "* % Passing Reading\n",
    "* % Overall Passing (The percentage of students that passed math and reading.)\n",
    "\n",
    "Create a dataframe to hold the above results"
   ]
  },
  {
   "cell_type": "code",
   "execution_count": 43,
   "id": "6efc336a",
   "metadata": {},
   "outputs": [
    {
     "data": {
      "text/plain": [
       "array(['Huang High School', 'Figueroa High School', 'Shelton High School',\n",
       "       'Hernandez High School', 'Griffin High School',\n",
       "       'Wilson High School', 'Cabrera High School', 'Bailey High School',\n",
       "       'Holden High School', 'Pena High School', 'Wright High School',\n",
       "       'Rodriguez High School', 'Johnson High School', 'Ford High School',\n",
       "       'Thomas High School'], dtype=object)"
      ]
     },
     "execution_count": 43,
     "metadata": {},
     "output_type": "execute_result"
    }
   ],
   "source": [
    "# List school names and set as index\n",
    "schools = school_data_df[\"school_name\"].unique()\n",
    "schools"
   ]
  },
  {
   "cell_type": "code",
   "execution_count": 44,
   "id": "6bee23d8",
   "metadata": {},
   "outputs": [
    {
     "data": {
      "text/plain": [
       "array(['District', 'Charter'], dtype=object)"
      ]
     },
     "execution_count": 44,
     "metadata": {},
     "output_type": "execute_result"
    }
   ],
   "source": [
    "# List school districts\n",
    "schooldistrict = school_data_df[\"type\"].unique()\n",
    "schooldistrict"
   ]
  },
  {
   "cell_type": "code",
   "execution_count": 46,
   "id": "33f4d9e6",
   "metadata": {},
   "outputs": [
    {
     "data": {
      "text/plain": [
       "<pandas.core.groupby.generic.DataFrameGroupBy object at 0x122b2d1f0>"
      ]
     },
     "execution_count": 46,
     "metadata": {},
     "output_type": "execute_result"
    }
   ],
   "source": [
    "school_data_gdf = school_data_df.groupby([\"school_name\"])\n",
    "\n",
    "\n",
    "school_summary = {\"School Type\":\n",
    "#     school_data.set_index(\"school_name\")['type'],\n",
    "#     # Complicated way:\n",
    "#     # school_data_complete.sort_values(by=[\"school_name\"]).groupby(\"school_name\")[\"type\"].head(1).tolist(),\n",
    "    \n",
    "#     \"Total Students\":\n",
    "#     grouped_school_data_complete['school_name'].count(),\n",
    "    \n",
    "#     \"Total School Budget\":\n",
    "#     grouped_school_data_complete['budget'].mean(),\n",
    "    \n",
    "#     \"Per Student Budget\":\n",
    "#     grouped_school_data_complete['budget'].mean() / \n",
    "#     grouped_school_data_complete['school_name'].count(),\n",
    "    \n",
    "#     \"Average Math Score\":\n",
    "#     round(grouped_school_data_complete['math_score'].mean(), 6),\n",
    "    \n",
    "#     \"Average Reading Score\":\n",
    "#     round(grouped_school_data_complete['reading_score'].mean(), 6),\n",
    "    \n",
    "#     \"% Passing Math\":\n",
    "#     round(100 * (school_data_complete.loc[school_data_complete['math_score'] >= 70, :].groupby('school_name')['student_name'].count() \n",
    "#                  / grouped_school_data_complete['school_name'].count()), 6),\n",
    "    \n",
    "#     \"% Passing Reading\":\n",
    "#     round(100 * (school_data_complete.loc[school_data_complete['reading_score'] >= 70, :].groupby('school_name')['student_name'].count() \n",
    "#                  / grouped_school_data_complete['school_name'].count()), 6),\n",
    "    \n",
    "#     \"% Overall Passing\":\n",
    "#     round(100 * (school_data_complete.loc[(school_data_complete['reading_score'] >= 70) & \n",
    "#                                           (school_data_complete['math_score'] >= 70), :].groupby('school_name')['student_name'].count() \n",
    "#                  / grouped_school_data_complete['school_name'].count()), 6)\n",
    "\n",
    "# }\n",
    "\n",
    "    \n",
    "# school_summary_df = pd.DataFrame(school_summary)\n",
    "# school_summary_df2 = school_summary_df.copy()\n",
    "# school_summary_df['Total School Budget'] = school_summary_df['Total School Budget'].map('${:,.2f}'.format)\n",
    "# school_summary_df['Per Student Budget'] = school_summary_df['Per Student Budget'].map('${:,.2f}'.format)\n",
    "# school_summary_df.head(15)\n",
    "\n",
    "# Create summary dataframe\n",
    "school_summary_df = pd.DataFrame({\n",
    "    \"School Name\": schoolnames\n",
    "    \"School Type\": schooltype,\n",
    "    \"Total Students\": totalstudent,\n",
    "    \"Total School Budget\": totalbudget,\n",
    "    \"Per Student Budget\": perstudentbudget,\n",
    "    \"Average Math Score\": avgmath,\n",
    "    \"Average Reading Score\": avgreading,\n",
    "    \"% Passing Math\": mathpassperc,\n",
    "    \"% Passing Reading\": readingpassperc,\n",
    "    \"% Overall Passing\": overallpassperc\n",
    "})\n",
    "# pd.options.display.float_format = \"{:,.2f}\".format\n",
    "\n",
    "school_summary_df"
   ]
  },
  {
   "cell_type": "markdown",
   "id": "97ad6eab",
   "metadata": {},
   "source": [
    "# Highest-Performing Schools (By % Overall Passing)\n",
    "Create a DataFrame that highlights the top 5 performing schools based on % Overall Passing. Include the following metrics:\n",
    "* School name\n",
    "* School type\n",
    "* Total students\n",
    "* Total school budget\n",
    "* Per student budget\n",
    "* Average math score\n",
    "* Average reading score\n",
    "* % passing math (the percentage of students who passed math)\n",
    "* % passing reading (the percentage of students who passed reading)\n",
    "* % overall passing (the percentage of students who passed math AND reading)"
   ]
  },
  {
   "cell_type": "code",
   "execution_count": null,
   "id": "9cd31fb6",
   "metadata": {},
   "outputs": [],
   "source": [
    "# School"
   ]
  },
  {
   "cell_type": "code",
   "execution_count": null,
   "id": "371a7572",
   "metadata": {},
   "outputs": [],
   "source": [
    "# Create summary dataframe\n",
    "highest_summary_df = pd.DataFrame({\n",
    "    \"School Type\": [],\n",
    "    \"Total Students\": [],\n",
    "    \"Total School Budget\": [],\n",
    "    \"Per Student Budget\": [],\n",
    "    \"Average Math Score\": [],\n",
    "    \"Average Reading Score\": [],\n",
    "    \"% Passing Math\": [],\n",
    "    \"% Passing Reading\": [],\n",
    "    \"% Overall Passing\": []\n",
    "})\n",
    "pd.options.display.float_format = \"{:,.2f}\".format\n",
    "\n",
    "highest \n"
   ]
  },
  {
   "cell_type": "markdown",
   "id": "620cfe1b",
   "metadata": {},
   "source": [
    "# Lowest-Performing Schools (By % Overall Passing)\n",
    "Create a DataFrame that highlights the top 5 performing schools based on % Overall Passing. Include the following metrics:\n",
    "* School name\n",
    "* School type\n",
    "* Total students\n",
    "* Total school budget\n",
    "* Per student budget\n",
    "* Average math score\n",
    "* Average reading score\n",
    "* % passing math (the percentage of students who passed math)\n",
    "* % passing reading (the percentage of students who passed reading)\n",
    "* % overall passing (the percentage of students who passed math AND reading)"
   ]
  },
  {
   "cell_type": "code",
   "execution_count": null,
   "id": "ed046288",
   "metadata": {},
   "outputs": [],
   "source": [
    "# School"
   ]
  },
  {
   "cell_type": "code",
   "execution_count": null,
   "id": "425a3b71",
   "metadata": {},
   "outputs": [],
   "source": [
    "# Create summary dataframe\n",
    "lowest_summary_df = pd.DataFrame({\n",
    "    \"School Type\": [],\n",
    "    \"Total Students\": [],\n",
    "    \"Total School Budget\": [],\n",
    "    \"Per Student Budget\": [],\n",
    "    \"Average Math Score\": [],\n",
    "    \"Average Reading Score\": [],\n",
    "    \"% Passing Math\": [],\n",
    "    \"% Passing Reading\": [],\n",
    "    \"% Overall Passing\": []\n",
    "})\n",
    "pd.options.display.float_format = \"{:,.2f}\".format\n",
    "\n",
    "lowest_summary_df \n"
   ]
  },
  {
   "cell_type": "markdown",
   "id": "99b206eb",
   "metadata": {},
   "source": [
    "# Math Scores by Grade\n",
    "Create a table that lists the average Reading Score for students of each grade level (9th, 10th, 11th, 12th) at each school.\n",
    "* Create a pandas series for each grade. Hint: use a conditional statement.\n",
    "* Group each series by school\n",
    "* Combine the series into a dataframe\n",
    "* Optional: give the displayed data cleaner formatting"
   ]
  },
  {
   "cell_type": "code",
   "execution_count": null,
   "id": "d5485b55",
   "metadata": {},
   "outputs": [],
   "source": [
    "# School"
   ]
  },
  {
   "cell_type": "code",
   "execution_count": null,
   "id": "f5d7cbd7",
   "metadata": {},
   "outputs": [],
   "source": [
    "# Create summary dataframe\n",
    "math_summary_df = pd.DataFrame({\n",
    "    \"9th\": [],\n",
    "    \"10th\": [],\n",
    "    \"11th\": [],\n",
    "    \"12th\": [],\n",
    "})\n",
    "pd.options.display.float_format = \"{:,.2f}\".format\n",
    "\n",
    "math_summary_df \n"
   ]
  },
  {
   "cell_type": "markdown",
   "id": "c79b1117",
   "metadata": {},
   "source": [
    "# Reading Score by Grade\n",
    "Create a table that lists the average Reading Score for students of each grade level (9th, 10th, 11th, 12th) at each school.\n",
    "* Create a pandas series for each grade. Hint: use a conditional statement.\n",
    "* Group each series by school\n",
    "* Combine the series into a dataframe\n",
    "* Optional: give the displayed data cleaner formatting"
   ]
  },
  {
   "cell_type": "code",
   "execution_count": null,
   "id": "272b88b4",
   "metadata": {},
   "outputs": [],
   "source": [
    "# School"
   ]
  },
  {
   "cell_type": "code",
   "execution_count": null,
   "id": "0178da6d",
   "metadata": {},
   "outputs": [],
   "source": [
    "# Create summary dataframe\n",
    "reading_summary_df = pd.DataFrame({\n",
    "    \"9th\": [],\n",
    "    \"10th\": [],\n",
    "    \"11th\": [],\n",
    "    \"12th\": [],\n",
    "})\n",
    "pd.options.display.float_format = \"{:,.2f}\".format\n",
    "\n",
    "reading_summary_df \n"
   ]
  },
  {
   "cell_type": "markdown",
   "id": "bbed550b",
   "metadata": {},
   "source": [
    "# Scores by School Spending\n",
    "Create a table that breaks down school performance based on average spending ranges (per student). Use your judgment to create four bins with reasonable cutoff values to group school spending. Include the following metrics in the table:\n",
    "* Average math score\n",
    "* Average reading score\n",
    "* % passing math (the percentage of students who passed math)\n",
    "* % passing reading (the percentage of students who passed reading)\n",
    "* % overall passing (the percentage of students who passed math AND reading)"
   ]
  },
  {
   "cell_type": "code",
   "execution_count": null,
   "id": "d7d318cc",
   "metadata": {},
   "outputs": [],
   "source": [
    "# Spending Ranges (Per Student) $:\n",
    "# <585\n",
    "# 585-630\n",
    "# 630-645\n",
    "# 645-680"
   ]
  },
  {
   "cell_type": "code",
   "execution_count": null,
   "id": "bf9524bf",
   "metadata": {},
   "outputs": [],
   "source": [
    "# Create summary dataframe\n",
    "spending_summary_df = pd.DataFrame({\n",
    "    \"Average Math Score\": [],\n",
    "    \"Average Reading Score\": [],\n",
    "    \"% Passing Math\": [],\n",
    "    \"% Passing Reading\": [],\n",
    "    \"% Overall Passing\": []\n",
    "})\n",
    "pd.options.display.float_format = \"{:,.2f}\".format\n",
    "\n",
    "spending_summary_df \n"
   ]
  },
  {
   "cell_type": "markdown",
   "id": "ff96a6b3",
   "metadata": {},
   "source": [
    "## Scored by School Size\n",
    "Create a table that breaks down school performance based on school size (small, medium, or large)."
   ]
  },
  {
   "cell_type": "code",
   "execution_count": null,
   "id": "0704b7ba",
   "metadata": {},
   "outputs": [],
   "source": [
    "# School Size\n",
    "# Small (<1000)\n",
    "# Medium (1000-2000)\n",
    "# Large (2000-5000)"
   ]
  },
  {
   "cell_type": "code",
   "execution_count": null,
   "id": "49aaf7e9",
   "metadata": {},
   "outputs": [],
   "source": [
    "# Create summary dataframe\n",
    "schoolsize_summary_df = pd.DataFrame({\n",
    "    \"Average Math Score\": [],\n",
    "    \"Average Reading Score\": [],\n",
    "    \"% Passing Math\": [],\n",
    "    \"% Passing Reading\": [],\n",
    "    \"% Overall Passing\": []\n",
    "})\n",
    "pd.options.display.float_format = \"{:,.2f}\".format\n",
    "\n",
    "schoolsize_summary_df \n"
   ]
  },
  {
   "cell_type": "markdown",
   "id": "bd9a4c78",
   "metadata": {},
   "source": [
    "## Scores by School Type\n",
    "Create a table that breaks down school performance based on type of school (district or charter)."
   ]
  },
  {
   "cell_type": "code",
   "execution_count": null,
   "id": "52fb0913",
   "metadata": {},
   "outputs": [],
   "source": [
    "# School Type\n",
    "# charter\n",
    "# district"
   ]
  },
  {
   "cell_type": "code",
   "execution_count": null,
   "id": "e51ead2e",
   "metadata": {},
   "outputs": [],
   "source": [
    "# Create summary dataframe\n",
    "schooltype_summary_df = pd.DataFrame({\n",
    "    \"Average Math Score\": [],\n",
    "    \"Average Reading Score\": [],\n",
    "    \"% Passing Math\": [],\n",
    "    \"% Passing Reading\": [],\n",
    "    \"% Overall Passing\": []\n",
    "})\n",
    "pd.options.display.float_format = \"{:,.2f}\".format\n",
    "\n",
    "schooltype_summary_df \n"
   ]
  }
 ],
 "metadata": {
  "kernelspec": {
   "display_name": "Python 3 (ipykernel)",
   "language": "python",
   "name": "python3"
  },
  "language_info": {
   "codemirror_mode": {
    "name": "ipython",
    "version": 3
   },
   "file_extension": ".py",
   "mimetype": "text/x-python",
   "name": "python",
   "nbconvert_exporter": "python",
   "pygments_lexer": "ipython3",
   "version": "3.9.12"
  }
 },
 "nbformat": 4,
 "nbformat_minor": 5
}
