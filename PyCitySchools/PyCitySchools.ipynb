{
 "cells": [
  {
   "cell_type": "markdown",
   "id": "59e5f3a2",
   "metadata": {},
   "source": [
    "# Unit 4 Homework: Pandas, Pandas, Pandas"
   ]
  },
  {
   "cell_type": "markdown",
   "id": "abc760e7",
   "metadata": {},
   "source": [
    "Using Pandas and Jupyter Notebook, create a report that includes the following data. Your report must include a written description of at least two observable trends based on the data."
   ]
  },
  {
   "cell_type": "code",
   "execution_count": 1,
   "id": "6c31b458",
   "metadata": {},
   "outputs": [
    {
     "data": {
      "text/html": [
       "<div>\n",
       "<style scoped>\n",
       "    .dataframe tbody tr th:only-of-type {\n",
       "        vertical-align: middle;\n",
       "    }\n",
       "\n",
       "    .dataframe tbody tr th {\n",
       "        vertical-align: top;\n",
       "    }\n",
       "\n",
       "    .dataframe thead th {\n",
       "        text-align: right;\n",
       "    }\n",
       "</style>\n",
       "<table border=\"1\" class=\"dataframe\">\n",
       "  <thead>\n",
       "    <tr style=\"text-align: right;\">\n",
       "      <th></th>\n",
       "      <th>Student ID</th>\n",
       "      <th>student_name</th>\n",
       "      <th>gender</th>\n",
       "      <th>grade</th>\n",
       "      <th>school_name</th>\n",
       "      <th>reading_score</th>\n",
       "      <th>math_score</th>\n",
       "      <th>School ID</th>\n",
       "      <th>type</th>\n",
       "      <th>size</th>\n",
       "      <th>budget</th>\n",
       "    </tr>\n",
       "  </thead>\n",
       "  <tbody>\n",
       "    <tr>\n",
       "      <th>0</th>\n",
       "      <td>0</td>\n",
       "      <td>Paul Bradley</td>\n",
       "      <td>M</td>\n",
       "      <td>9th</td>\n",
       "      <td>Huang High School</td>\n",
       "      <td>66</td>\n",
       "      <td>79</td>\n",
       "      <td>0</td>\n",
       "      <td>District</td>\n",
       "      <td>2917</td>\n",
       "      <td>1910635</td>\n",
       "    </tr>\n",
       "    <tr>\n",
       "      <th>1</th>\n",
       "      <td>1</td>\n",
       "      <td>Victor Smith</td>\n",
       "      <td>M</td>\n",
       "      <td>12th</td>\n",
       "      <td>Huang High School</td>\n",
       "      <td>94</td>\n",
       "      <td>61</td>\n",
       "      <td>0</td>\n",
       "      <td>District</td>\n",
       "      <td>2917</td>\n",
       "      <td>1910635</td>\n",
       "    </tr>\n",
       "    <tr>\n",
       "      <th>2</th>\n",
       "      <td>2</td>\n",
       "      <td>Kevin Rodriguez</td>\n",
       "      <td>M</td>\n",
       "      <td>12th</td>\n",
       "      <td>Huang High School</td>\n",
       "      <td>90</td>\n",
       "      <td>60</td>\n",
       "      <td>0</td>\n",
       "      <td>District</td>\n",
       "      <td>2917</td>\n",
       "      <td>1910635</td>\n",
       "    </tr>\n",
       "    <tr>\n",
       "      <th>3</th>\n",
       "      <td>3</td>\n",
       "      <td>Dr. Richard Scott</td>\n",
       "      <td>M</td>\n",
       "      <td>12th</td>\n",
       "      <td>Huang High School</td>\n",
       "      <td>67</td>\n",
       "      <td>58</td>\n",
       "      <td>0</td>\n",
       "      <td>District</td>\n",
       "      <td>2917</td>\n",
       "      <td>1910635</td>\n",
       "    </tr>\n",
       "    <tr>\n",
       "      <th>4</th>\n",
       "      <td>4</td>\n",
       "      <td>Bonnie Ray</td>\n",
       "      <td>F</td>\n",
       "      <td>9th</td>\n",
       "      <td>Huang High School</td>\n",
       "      <td>97</td>\n",
       "      <td>84</td>\n",
       "      <td>0</td>\n",
       "      <td>District</td>\n",
       "      <td>2917</td>\n",
       "      <td>1910635</td>\n",
       "    </tr>\n",
       "  </tbody>\n",
       "</table>\n",
       "</div>"
      ],
      "text/plain": [
       "   Student ID       student_name gender grade        school_name  \\\n",
       "0           0       Paul Bradley      M   9th  Huang High School   \n",
       "1           1       Victor Smith      M  12th  Huang High School   \n",
       "2           2    Kevin Rodriguez      M  12th  Huang High School   \n",
       "3           3  Dr. Richard Scott      M  12th  Huang High School   \n",
       "4           4         Bonnie Ray      F   9th  Huang High School   \n",
       "\n",
       "   reading_score  math_score  School ID      type  size   budget  \n",
       "0             66          79          0  District  2917  1910635  \n",
       "1             94          61          0  District  2917  1910635  \n",
       "2             90          60          0  District  2917  1910635  \n",
       "3             67          58          0  District  2917  1910635  \n",
       "4             97          84          0  District  2917  1910635  "
      ]
     },
     "execution_count": 1,
     "metadata": {},
     "output_type": "execute_result"
    }
   ],
   "source": [
    "# Dependencies and set up\n",
    "import os\n",
    "import csv\n",
    "import pandas as pd\n",
    "\n",
    "# Load files\n",
    "school_data_path= \"./Resources/schools_complete.csv\"\n",
    "student_data_path = \"./Resources/students_complete.csv\"\n",
    "\n",
    "# Read School and Student Data File and store into Pandas DataFrames\n",
    "school_data = pd.read_csv(school_data_path)\n",
    "student_data = pd.read_csv(student_data_path)\n",
    "\n",
    "# Combine the data into a single dataset\n",
    "school_data_df = pd.merge(student_data, school_data, how=\"left\", on=[\"school_name\", \"school_name\"])\n",
    "\n",
    "# Check dataframe\n",
    "school_data_df.head()"
   ]
  },
  {
   "cell_type": "markdown",
   "id": "7087b9f1",
   "metadata": {},
   "source": [
    "# District Summary\n",
    "Create a high-level snapshot, in a DataFrame, of the district's key metrics, including the following:\n",
    "* Total schools\n",
    "* Total students\n",
    "* Total budget\n",
    "* Average math score\n",
    "* Average reading score\n",
    "* % passing math (the percentage of students who passed math)\n",
    "* % passing reading (the percentage of students who passed reading)\n",
    "* % overall passing (the percentage of students who passed math AND reading)"
   ]
  },
  {
   "cell_type": "code",
   "execution_count": 2,
   "id": "25f42c0e",
   "metadata": {
    "scrolled": false
   },
   "outputs": [
    {
     "data": {
      "text/plain": [
       "15"
      ]
     },
     "execution_count": 2,
     "metadata": {},
     "output_type": "execute_result"
    }
   ],
   "source": [
    "# number of schools\n",
    "total_schools = school_data_df[\"school_name\"].nunique()\n",
    "total_schools"
   ]
  },
  {
   "cell_type": "code",
   "execution_count": 3,
   "id": "ba50a212",
   "metadata": {},
   "outputs": [
    {
     "data": {
      "text/plain": [
       "39170"
      ]
     },
     "execution_count": 3,
     "metadata": {},
     "output_type": "execute_result"
    }
   ],
   "source": [
    "# number of students\n",
    "total_students = school_data_df[\"student_name\"].count()\n",
    "total_students"
   ]
  },
  {
   "cell_type": "code",
   "execution_count": 4,
   "id": "e3899575",
   "metadata": {},
   "outputs": [
    {
     "data": {
      "text/plain": [
       "24649428"
      ]
     },
     "execution_count": 4,
     "metadata": {},
     "output_type": "execute_result"
    }
   ],
   "source": [
    "# total budget\n",
    "# sum(school_data[\"budget\"])\n",
    "total_budget = sum(school_data_df[\"budget\"].unique())\n",
    "total_budget"
   ]
  },
  {
   "cell_type": "code",
   "execution_count": 5,
   "id": "fee6f8ed",
   "metadata": {},
   "outputs": [
    {
     "data": {
      "text/plain": [
       "78.98537145774827"
      ]
     },
     "execution_count": 5,
     "metadata": {},
     "output_type": "execute_result"
    }
   ],
   "source": [
    "# average math score\n",
    "avg_math = school_data_df[\"math_score\"].mean()\n",
    "avg_math"
   ]
  },
  {
   "cell_type": "code",
   "execution_count": 6,
   "id": "0ee35dff",
   "metadata": {},
   "outputs": [
    {
     "data": {
      "text/plain": [
       "81.87784018381414"
      ]
     },
     "execution_count": 6,
     "metadata": {},
     "output_type": "execute_result"
    }
   ],
   "source": [
    "# average reading score\n",
    "avg_read = school_data_df[\"reading_score\"].mean()\n",
    "avg_read"
   ]
  },
  {
   "cell_type": "code",
   "execution_count": 7,
   "id": "b6449b27",
   "metadata": {},
   "outputs": [
    {
     "data": {
      "text/plain": [
       "74.9808526933878"
      ]
     },
     "execution_count": 7,
     "metadata": {},
     "output_type": "execute_result"
    }
   ],
   "source": [
    "# percentage of passing math score 70%\n",
    "pass_math = school_data_df.query('math_score >=70')\n",
    "total_pass_math = pass_math[\"math_score\"].count()\n",
    "total_pass_math\n",
    "\n",
    "perc_math = (total_pass_math / total_students) * 100\n",
    "perc_math"
   ]
  },
  {
   "cell_type": "code",
   "execution_count": 8,
   "id": "47e3cb0b",
   "metadata": {},
   "outputs": [
    {
     "data": {
      "text/plain": [
       "85.80546336482001"
      ]
     },
     "execution_count": 8,
     "metadata": {},
     "output_type": "execute_result"
    }
   ],
   "source": [
    "# percentage of passing reading score 70%\n",
    "pass_read = school_data_df.query('reading_score >=70')\n",
    "total_pass_read = pass_read[\"reading_score\"].count()\n",
    "total_pass_read\n",
    "\n",
    "perc_read = (total_pass_read / total_students) * 100\n",
    "perc_read"
   ]
  },
  {
   "cell_type": "code",
   "execution_count": 9,
   "id": "32043e04",
   "metadata": {},
   "outputs": [
    {
     "data": {
      "text/plain": [
       "65.17232575950983"
      ]
     },
     "execution_count": 9,
     "metadata": {},
     "output_type": "execute_result"
    }
   ],
   "source": [
    "# percentage of overall passing\n",
    "both_pass_count = school_data_df[\n",
    "    (school_data_df[\"math_score\"] >= 70) &\n",
    "    (school_data_df[\"reading_score\"] >=70)\n",
    "].count()[\"student_name\"]\n",
    "perc_all = (both_pass_count / total_students) * 100\n",
    "\n",
    "perc_all"
   ]
  },
  {
   "cell_type": "code",
   "execution_count": 13,
   "id": "1a61f6c6",
   "metadata": {
    "scrolled": true
   },
   "outputs": [
    {
     "data": {
      "text/html": [
       "<div>\n",
       "<style scoped>\n",
       "    .dataframe tbody tr th:only-of-type {\n",
       "        vertical-align: middle;\n",
       "    }\n",
       "\n",
       "    .dataframe tbody tr th {\n",
       "        vertical-align: top;\n",
       "    }\n",
       "\n",
       "    .dataframe thead th {\n",
       "        text-align: right;\n",
       "    }\n",
       "</style>\n",
       "<table border=\"1\" class=\"dataframe\">\n",
       "  <thead>\n",
       "    <tr style=\"text-align: right;\">\n",
       "      <th></th>\n",
       "      <th>Total Schools</th>\n",
       "      <th>Total Students</th>\n",
       "      <th>Total Budget</th>\n",
       "      <th>Average Math Score</th>\n",
       "      <th>Average Reading Score</th>\n",
       "      <th>% Passing Math</th>\n",
       "      <th>% Passing Reading</th>\n",
       "      <th>% Overall Passing</th>\n",
       "    </tr>\n",
       "  </thead>\n",
       "  <tbody>\n",
       "    <tr>\n",
       "      <th>0</th>\n",
       "      <td>15</td>\n",
       "      <td>39170</td>\n",
       "      <td>$24,649,428.00</td>\n",
       "      <td>78.99</td>\n",
       "      <td>81.88</td>\n",
       "      <td>74.98</td>\n",
       "      <td>85.81</td>\n",
       "      <td>65.17</td>\n",
       "    </tr>\n",
       "  </tbody>\n",
       "</table>\n",
       "</div>"
      ],
      "text/plain": [
       "   Total Schools  Total Students    Total Budget  Average Math Score  \\\n",
       "0             15           39170  $24,649,428.00               78.99   \n",
       "\n",
       "   Average Reading Score  % Passing Math  % Passing Reading  % Overall Passing  \n",
       "0                  81.88           74.98              85.81              65.17  "
      ]
     },
     "execution_count": 13,
     "metadata": {},
     "output_type": "execute_result"
    }
   ],
   "source": [
    "# Create summary dataframe\n",
    "district_summary_df = pd.DataFrame({\n",
    "    \"Total Schools\": total_schools,\n",
    "    \"Total Students\": total_students,\n",
    "    \"Total Budget\": total_budget,\n",
    "    \"Average Math Score\": avg_math,\n",
    "    \"Average Reading Score\": avg_read,\n",
    "    \"% Passing Math\": [perc_math],\n",
    "    \"% Passing Reading\": perc_read,\n",
    "    \"% Overall Passing\": perc_all\n",
    "})\n",
    "\n",
    "# applying clean formatting\n",
    "pd.options.display.float_format = \"{:,.2f}\".format\n",
    "district_summary_df[\"Total Budget\"] = district_summary_df[\n",
    "    \"Total Budget\"].map(\"${:,.2f}\".format)\n",
    "\n",
    "\n",
    "district_summary_df"
   ]
  },
  {
   "cell_type": "markdown",
   "id": "139e437d",
   "metadata": {},
   "source": [
    "# School Summary\n",
    "Create an overview table that summarizes key metrics about each school, including:\n",
    "* School Name\n",
    "* School Type\n",
    "* Total Students\n",
    "* Total School Budget\n",
    "* Per Student Budget\n",
    "* Average Math Score\n",
    "* Average Reading Score\n",
    "* % Passing Math\n",
    "* % Passing Reading\n",
    "* % Overall Passing (The percentage of students that passed math and reading.)\n",
    "\n",
    "Create a dataframe to hold the above results"
   ]
  },
  {
   "cell_type": "code",
   "execution_count": null,
   "id": "6efc336a",
   "metadata": {},
   "outputs": [],
   "source": [
    "# School"
   ]
  },
  {
   "cell_type": "code",
   "execution_count": null,
   "id": "33f4d9e6",
   "metadata": {},
   "outputs": [],
   "source": [
    "# Create summary dataframe\n",
    "school_summary_df = pd.DataFrame({\n",
    "    \"School Type\": [],\n",
    "    \"Total Students\": [],\n",
    "    \"Total School Budget\": [],\n",
    "    \"Per Student Budget\": [],\n",
    "    \"Average Math Score\": [],\n",
    "    \"Average Reading Score\": [],\n",
    "    \"% Passing Math\": [],\n",
    "    \"% Passing Reading\": [],\n",
    "    \"% Overall Passing\": []\n",
    "})\n",
    "pd.options.display.float_format = \"{:,.2f}\".format\n",
    "\n",
    "school_summary_df \n"
   ]
  },
  {
   "cell_type": "markdown",
   "id": "97ad6eab",
   "metadata": {},
   "source": [
    "# Highest-Performing Schools (By % Overall Passing)\n",
    "Create a DataFrame that highlights the top 5 performing schools based on % Overall Passing. Include the following metrics:\n",
    "* School name\n",
    "* School type\n",
    "* Total students\n",
    "* Total school budget\n",
    "* Per student budget\n",
    "* Average math score\n",
    "* Average reading score\n",
    "* % passing math (the percentage of students who passed math)\n",
    "* % passing reading (the percentage of students who passed reading)\n",
    "* % overall passing (the percentage of students who passed math AND reading)"
   ]
  },
  {
   "cell_type": "code",
   "execution_count": null,
   "id": "35de2e0f",
   "metadata": {},
   "outputs": [],
   "source": [
    "# School"
   ]
  },
  {
   "cell_type": "code",
   "execution_count": null,
   "id": "371a7572",
   "metadata": {},
   "outputs": [],
   "source": [
    "# Create summary dataframe\n",
    "highest_summary_df = pd.DataFrame({\n",
    "    \"School Type\": [],\n",
    "    \"Total Students\": [],\n",
    "    \"Total School Budget\": [],\n",
    "    \"Per Student Budget\": [],\n",
    "    \"Average Math Score\": [],\n",
    "    \"Average Reading Score\": [],\n",
    "    \"% Passing Math\": [],\n",
    "    \"% Passing Reading\": [],\n",
    "    \"% Overall Passing\": []\n",
    "})\n",
    "pd.options.display.float_format = \"{:,.2f}\".format\n",
    "\n",
    "highest \n"
   ]
  },
  {
   "cell_type": "markdown",
   "id": "620cfe1b",
   "metadata": {},
   "source": [
    "# Lowest-Performing Schools (By % Overall Passing)\n",
    "Create a DataFrame that highlights the top 5 performing schools based on % Overall Passing. Include the following metrics:\n",
    "* School name\n",
    "* School type\n",
    "* Total students\n",
    "* Total school budget\n",
    "* Per student budget\n",
    "* Average math score\n",
    "* Average reading score\n",
    "* % passing math (the percentage of students who passed math)\n",
    "* % passing reading (the percentage of students who passed reading)\n",
    "* % overall passing (the percentage of students who passed math AND reading)"
   ]
  },
  {
   "cell_type": "code",
   "execution_count": null,
   "id": "ed046288",
   "metadata": {},
   "outputs": [],
   "source": [
    "# School"
   ]
  },
  {
   "cell_type": "code",
   "execution_count": null,
   "id": "425a3b71",
   "metadata": {},
   "outputs": [],
   "source": [
    "# Create summary dataframe\n",
    "lowest_summary_df = pd.DataFrame({\n",
    "    \"School Type\": [],\n",
    "    \"Total Students\": [],\n",
    "    \"Total School Budget\": [],\n",
    "    \"Per Student Budget\": [],\n",
    "    \"Average Math Score\": [],\n",
    "    \"Average Reading Score\": [],\n",
    "    \"% Passing Math\": [],\n",
    "    \"% Passing Reading\": [],\n",
    "    \"% Overall Passing\": []\n",
    "})\n",
    "pd.options.display.float_format = \"{:,.2f}\".format\n",
    "\n",
    "lowest_summary_df \n"
   ]
  },
  {
   "cell_type": "markdown",
   "id": "99b206eb",
   "metadata": {},
   "source": [
    "# Math Scores by Grade\n",
    "Create a table that lists the average Reading Score for students of each grade level (9th, 10th, 11th, 12th) at each school.\n",
    "* Create a pandas series for each grade. Hint: use a conditional statement.\n",
    "* Group each series by school\n",
    "* Combine the series into a dataframe\n",
    "* Optional: give the displayed data cleaner formatting"
   ]
  },
  {
   "cell_type": "code",
   "execution_count": null,
   "id": "d5485b55",
   "metadata": {},
   "outputs": [],
   "source": [
    "# School"
   ]
  },
  {
   "cell_type": "code",
   "execution_count": null,
   "id": "f5d7cbd7",
   "metadata": {},
   "outputs": [],
   "source": [
    "# Create summary dataframe\n",
    "math_summary_df = pd.DataFrame({\n",
    "    \"9th\": [],\n",
    "    \"10th\": [],\n",
    "    \"11th\": [],\n",
    "    \"12th\": [],\n",
    "})\n",
    "pd.options.display.float_format = \"{:,.2f}\".format\n",
    "\n",
    "math_summary_df \n"
   ]
  },
  {
   "cell_type": "markdown",
   "id": "c79b1117",
   "metadata": {},
   "source": [
    "# Reading Score by Grade\n",
    "Create a table that lists the average Reading Score for students of each grade level (9th, 10th, 11th, 12th) at each school.\n",
    "* Create a pandas series for each grade. Hint: use a conditional statement.\n",
    "* Group each series by school\n",
    "* Combine the series into a dataframe\n",
    "* Optional: give the displayed data cleaner formatting"
   ]
  },
  {
   "cell_type": "code",
   "execution_count": null,
   "id": "272b88b4",
   "metadata": {},
   "outputs": [],
   "source": [
    "# School"
   ]
  },
  {
   "cell_type": "code",
   "execution_count": null,
   "id": "0178da6d",
   "metadata": {},
   "outputs": [],
   "source": [
    "# Create summary dataframe\n",
    "reading_summary_df = pd.DataFrame({\n",
    "    \"9th\": [],\n",
    "    \"10th\": [],\n",
    "    \"11th\": [],\n",
    "    \"12th\": [],\n",
    "})\n",
    "pd.options.display.float_format = \"{:,.2f}\".format\n",
    "\n",
    "reading_summary_df \n"
   ]
  },
  {
   "cell_type": "markdown",
   "id": "bbed550b",
   "metadata": {},
   "source": [
    "# Scores by School Spending\n",
    "Create a table that breaks down school performance based on average spending ranges (per student). Use your judgment to create four bins with reasonable cutoff values to group school spending. Include the following metrics in the table:\n",
    "* Average math score\n",
    "* Average reading score\n",
    "* % passing math (the percentage of students who passed math)\n",
    "* % passing reading (the percentage of students who passed reading)\n",
    "* % overall passing (the percentage of students who passed math AND reading)"
   ]
  },
  {
   "cell_type": "code",
   "execution_count": null,
   "id": "d7d318cc",
   "metadata": {},
   "outputs": [],
   "source": [
    "# Spending Ranges (Per Student) $:\n",
    "# <585\n",
    "# 585-630\n",
    "# 630-645\n",
    "# 645-680"
   ]
  },
  {
   "cell_type": "code",
   "execution_count": null,
   "id": "bf9524bf",
   "metadata": {},
   "outputs": [],
   "source": [
    "# Create summary dataframe\n",
    "spending_summary_df = pd.DataFrame({\n",
    "    \"Average Math Score\": [],\n",
    "    \"Average Reading Score\": [],\n",
    "    \"% Passing Math\": [],\n",
    "    \"% Passing Reading\": [],\n",
    "    \"% Overall Passing\": []\n",
    "})\n",
    "pd.options.display.float_format = \"{:,.2f}\".format\n",
    "\n",
    "spending_summary_df \n"
   ]
  },
  {
   "cell_type": "markdown",
   "id": "ff96a6b3",
   "metadata": {},
   "source": [
    "## Scored by School Size\n",
    "Create a table that breaks down school performance based on school size (small, medium, or large)."
   ]
  },
  {
   "cell_type": "code",
   "execution_count": null,
   "id": "0704b7ba",
   "metadata": {},
   "outputs": [],
   "source": [
    "# School Size\n",
    "# Small (<1000)\n",
    "# Medium (1000-2000)\n",
    "# Large (2000-5000)"
   ]
  },
  {
   "cell_type": "code",
   "execution_count": null,
   "id": "49aaf7e9",
   "metadata": {},
   "outputs": [],
   "source": [
    "# Create summary dataframe\n",
    "schoolsize_summary_df = pd.DataFrame({\n",
    "    \"Average Math Score\": [],\n",
    "    \"Average Reading Score\": [],\n",
    "    \"% Passing Math\": [],\n",
    "    \"% Passing Reading\": [],\n",
    "    \"% Overall Passing\": []\n",
    "})\n",
    "pd.options.display.float_format = \"{:,.2f}\".format\n",
    "\n",
    "schoolsize_summary_df \n"
   ]
  },
  {
   "cell_type": "markdown",
   "id": "bd9a4c78",
   "metadata": {},
   "source": [
    "## Scores by School Type\n",
    "Create a table that breaks down school performance based on type of school (district or charter)."
   ]
  },
  {
   "cell_type": "code",
   "execution_count": null,
   "id": "52fb0913",
   "metadata": {},
   "outputs": [],
   "source": [
    "# School Type\n",
    "# charter\n",
    "# district"
   ]
  },
  {
   "cell_type": "code",
   "execution_count": null,
   "id": "e51ead2e",
   "metadata": {},
   "outputs": [],
   "source": [
    "# Create summary dataframe\n",
    "schooltype_summary_df = pd.DataFrame({\n",
    "    \"Average Math Score\": [],\n",
    "    \"Average Reading Score\": [],\n",
    "    \"% Passing Math\": [],\n",
    "    \"% Passing Reading\": [],\n",
    "    \"% Overall Passing\": []\n",
    "})\n",
    "pd.options.display.float_format = \"{:,.2f}\".format\n",
    "\n",
    "schooltype_summary_df \n"
   ]
  }
 ],
 "metadata": {
  "kernelspec": {
   "display_name": "Python 3 (ipykernel)",
   "language": "python",
   "name": "python3"
  },
  "language_info": {
   "codemirror_mode": {
    "name": "ipython",
    "version": 3
   },
   "file_extension": ".py",
   "mimetype": "text/x-python",
   "name": "python",
   "nbconvert_exporter": "python",
   "pygments_lexer": "ipython3",
   "version": "3.9.12"
  }
 },
 "nbformat": 4,
 "nbformat_minor": 5
}
